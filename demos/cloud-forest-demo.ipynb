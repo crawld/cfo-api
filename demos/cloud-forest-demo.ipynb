{
 "cells": [
  {
   "cell_type": "markdown",
   "metadata": {},
   "source": [
    "# Cloud forest demo\n",
    "\n",
    "This notebook demonstrates how to work with contemporary cloud-based spatial analysis and indexing tools. It accompanies [this blog post](https://salo.ai/blog/2021/01/cfo-cloud). We'll work with:\n",
    "\n",
    "- Cloud-Optimized Geotiffs (COG)\n",
    "- Google Earth Engine\n",
    "- SpatioTemporal Asset Catalogs (STAC)\n",
    "\n",
    "We'll also describe integrations between these tools and the CFO API.\n",
    "\n",
    "If you have conda installed, you can run the following to load this notebook:\n",
    "\n",
    "```bash\n",
    "git clone https://github.com/forestobservatory/cfo-api.git\n",
    "cd cfo-api\n",
    "conda env update\n",
    "conda activate cfo\n",
    "jupyter notebook\n",
    "```"
   ]
  },
  {
   "cell_type": "markdown",
   "metadata": {},
   "source": [
    "## Section 0: loading packages, authenticating resources, defining functions."
   ]
  },
  {
   "cell_type": "code",
   "execution_count": null,
   "metadata": {},
   "outputs": [],
   "source": [
    "%matplotlib notebook\n",
    "\n",
    "import os\n",
    "import cfo\n",
    "import ee\n",
    "import folium\n",
    "import numpy as np\n",
    "import matplotlib.pyplot as plt\n",
    "from osgeo import gdal, ogr, osr\n",
    "from time import time\n",
    "\n",
    "gdal.UseExceptions()"
   ]
  },
  {
   "cell_type": "code",
   "execution_count": null,
   "metadata": {},
   "outputs": [],
   "source": [
    "# we'll write a couple of files to your local machine, so be sure to change this path!\n",
    "outdir = \"/home/cba/cfo\""
   ]
  },
  {
   "cell_type": "code",
   "execution_count": null,
   "metadata": {},
   "outputs": [],
   "source": [
    "# if this is your first time running earth engine from a notebook, run this code block.\n",
    "ee.Authenticate()"
   ]
  },
  {
   "cell_type": "code",
   "execution_count": null,
   "metadata": {},
   "outputs": [],
   "source": [
    "# while you don't need to authenticate each time, you do need to initialize earth engine each time\n",
    "ee.Initialize()\n",
    "\n",
    "# same with the cfo api\n",
    "forest = cfo.api()\n",
    "forest.authenticate()"
   ]
  },
  {
   "cell_type": "code",
   "execution_count": null,
   "metadata": {},
   "outputs": [],
   "source": [
    "# this code block will verify you're connected to earth engine by printing the elevation of Mount Everest\n",
    "dem = ee.Image('USGS/SRTMGL1_003')\n",
    "peak = [86.9250, 27.9881]\n",
    "xy = ee.Geometry.Point(peak)\n",
    "elev = dem.sample(xy, 30).first().get('elevation').getInfo()\n",
    "print('Mount Everest elevation (m):', elev)"
   ]
  },
  {
   "cell_type": "markdown",
   "metadata": {},
   "source": [
    "Below are some functions and parameters we'll use later. You don't have to read closely; just run the block."
   ]
  },
  {
   "cell_type": "code",
   "execution_count": null,
   "metadata": {},
   "outputs": [],
   "source": [
    "# color palettes\n",
    "cfo_green = [\"#f9fae5\", \"#ccd682\", \"#a6bd34\", \"#72b416\", \"#325900\"]\n",
    "cfo_change = [\"#E34649\", \"#FDC591\", \"#E8E84C\", \"#9AD94C\", \"#2093BD\"]\n",
    "\n",
    "# add earth engine tiles to folium\n",
    "def addLayer(self, eeImage, visParams={}, name=\"Layer\"):\n",
    "    \"\"\"\n",
    "    Adds an earth engine image object to a folium map.\n",
    "\n",
    "    source: https://colab.research.google.com/github/google/earthengine-api/blob/master/python/examples/ipynb/ee-api-colab-setup.ipynb\n",
    "    \"\"\"\n",
    "    map_id_dict = ee.Image(eeImage).getMapId(visParams)\n",
    "    folium.raster_layers.TileLayer(\n",
    "        tiles=map_id_dict[\"tile_fetcher\"].url_format,\n",
    "        attr=\"Map Data &copy; <a href='https://earthengine.google.com/'>Google Earth Engine</a>\",\n",
    "        name=name,\n",
    "        overlay=True,\n",
    "        control=True,\n",
    "    ).add_to(self)\n",
    "\n",
    "# add the map function to the map object\n",
    "folium.Map.addLayer = addLayer\n",
    "\n",
    "# coordinate to pixel conversion\n",
    "def pixel_project(raster_path: str, xy: list, epsg: int = 4326, wkt: str = None):\n",
    "    \"\"\"\n",
    "    Converts geographic coordinates to pixel units for an input raster file.\n",
    "    \"\"\"\n",
    "    # read the raster data properties\n",
    "    ref = gdal.Open(raster_path, gdal.GA_ReadOnly)\n",
    "    nx = ref.RasterXSize\n",
    "    ny = ref.RasterYSize\n",
    "    geo = ref.GetGeoTransform()\n",
    "    inv_geo = gdal.InvGeoTransform(geo)\n",
    "    prj = ref.GetProjection()\n",
    "    raster_srs = osr.SpatialReference()\n",
    "    raster_srs.ImportFromWkt(prj)\n",
    "    ref = None\n",
    "    \n",
    "    # create the inverse transformation\n",
    "    xy_srs = osr.SpatialReference()\n",
    "    if wkt is None:\n",
    "        xy_srs.ImportFromEPSG(epsg)\n",
    "    else:\n",
    "        xy_srs.ImportFromWkt(wkt)\n",
    "    xy_srs.SetAxisMappingStrategy(osr.OAMS_TRADITIONAL_GIS_ORDER)\n",
    "    raster_srs.SetAxisMappingStrategy(osr.OAMS_TRADITIONAL_GIS_ORDER)\n",
    "    transformer = osr.CoordinateTransformation(xy_srs, raster_srs)\n",
    "    \n",
    "    # re-project the point and compute raster coordinates\n",
    "    point = ogr.Geometry(ogr.wkbPoint)\n",
    "    point.AddPoint(xy[0], xy[1])\n",
    "    point.Transform(transformer)\n",
    "    x_px, y_px = [int(p) for p in gdal.ApplyGeoTransform(inv_geo, point.GetX(), point.GetY())]\n",
    "    \n",
    "    # warn if these values are outside the raster boundaries\n",
    "    if x_px < 0 or y_px < 0 or x_px > nx or y_px > ny:\n",
    "        raise Exception(\"Coordinates are outside raster extent\")\n",
    "        \n",
    "    return x_px, y_px"
   ]
  },
  {
   "cell_type": "markdown",
   "metadata": {},
   "source": [
    "# Section 1. Reading and clipping COG data with gdal\n",
    "\n",
    "One of the key advantages of cloud-optimized geotiffs is that you can rapidly read arbitrary subsets of data. We'll work through an example reading the height of a single tree at a point location and an example of clipping to the extent of a recent wildfire.\n",
    "\n",
    "In the api searches below, we set `geography=\"California\"` to return the full statewide datasets. For help with the options you can set for the parameters below, try `forest.list_metrics()`, `forest.list_geography_types()`, `forest.list_geographies()`, etc."
   ]
  },
  {
   "cell_type": "code",
   "execution_count": null,
   "metadata": {},
   "outputs": [],
   "source": [
    "# use the cfo api to get the 2020 high res canopy height asset ID\n",
    "ch_ids = forest.search(\n",
    "    geography=\"California\",\n",
    "    metric=\"CanopyHeight\",\n",
    "    year=2020,\n",
    "    resolution=3,\n",
    ")\n",
    "\n",
    "# these should return 1-element lists, and we'll use it later as a string, so extract it\n",
    "ch_id = ch_ids.pop()\n",
    "\n",
    "print(f\"CFO 2020 3m Asset ID: {ch_id}\")\n",
    "\n",
    "# then get the virtual file paths\n",
    "ch_path = forest.fetch(ch_id, gdal=True)"
   ]
  },
  {
   "cell_type": "markdown",
   "metadata": {},
   "source": [
    "In this first block, we'll use Forest Observatory data to get the height of a neat Monterey Pine at entrance to the San Francisco Botanic Gardens in Golden Gate Park."
   ]
  },
  {
   "cell_type": "code",
   "execution_count": null,
   "metadata": {},
   "outputs": [],
   "source": [
    "# set the lat/lon coordinates of the tree (from google maps)\n",
    "pine_coords = [-122.46776, 37.7673]\n",
    "\n",
    "# time the cell\n",
    "start = time()\n",
    "\n",
    "# since these are in lat/lon, we'll first convert to pixel values. This command will fail outside of California.\n",
    "x, y = pixel_project(ch_path, pine_coords, epsg=4326)\n",
    "\n",
    "# then read the value at that location\n",
    "ch_ref = gdal.Open(ch_path, gdal.GA_ReadOnly)\n",
    "height = ch_ref.ReadAsArray(x, y, 1, 1)\n",
    "print(f\"Height of the Monterey Pine at the SF Botanic Garden Entrance: {int(height)} meters tall\")\n",
    "\n",
    "# close the file reference and report duration\n",
    "ch_ref = None\n",
    "duration = time() - start\n",
    "print(f\"Time elapsed: {duration:0.3f} seconds\")"
   ]
  },
  {
   "cell_type": "markdown",
   "metadata": {},
   "source": [
    "The first request takes a few seconds, but if you update the coordinates and make additional requests, it typically takes less than 1/10th of a second! Much faster than climbing the tree. But, less fun.\n",
    "\n",
    "Next, we'll use `gdal` to clip a map of canopy height to the extent of the CZU fire. We'll use a file provided in this repository that contains the geometry of the fire's extent."
   ]
  },
  {
   "cell_type": "code",
   "execution_count": null,
   "metadata": {},
   "outputs": [],
   "source": [
    "# set the output file path\n",
    "ch_split = ch_id.split('-')\n",
    "ch_split[0] = \"CZU\"\n",
    "ch_filename = \"-\".join(ch_split) + \".tif\"\n",
    "ch_output = os.path.join(outdir, ch_filename)\n",
    "\n",
    "# report starting\n",
    "print(f\"Clipping CFO asset ID {ch_id} to file: {ch_output}\")\n",
    "\n",
    "# use the geojson file in this directory\n",
    "vector_path = 'czu-perimeter.geojson'\n",
    "\n",
    "# time the cell\n",
    "start = time()\n",
    "\n",
    "# set the file creation options\n",
    "options = gdal.WarpOptions(\n",
    "    creationOptions = [\"COMPRESS=DEFLATE\", \"TILED=YES\", \"BIGTIFF=YES\", \"NUM_THREADS=ALL_CPUS\"],\n",
    "    cutlineDSName = vector_path,\n",
    "    cropToCutline = True,\n",
    ")\n",
    "\n",
    "# and run the command\n",
    "warp = gdal.Warp(ch_output, ch_path, options=options)\n",
    "warp.FlushCache()\n",
    "del warp\n",
    "\n",
    "# report duration\n",
    "duration = time() - start\n",
    "print(f\"Time elapsed: {duration:0.3f} seconds\")"
   ]
  },
  {
   "cell_type": "markdown",
   "metadata": {},
   "source": [
    "Pretty good timing, considering we're pulling 3 meter resolution data from the cloud and clipping it to the extent of a major wildfire.\n",
    "\n",
    "Let's plot it for reference"
   ]
  },
  {
   "cell_type": "code",
   "execution_count": null,
   "metadata": {},
   "outputs": [],
   "source": [
    "# read and mask the data\n",
    "ch_ref = gdal.Open(ch_output, gdal.GA_ReadOnly)\n",
    "band = ch_ref.GetRasterBand(1)\n",
    "height = ch_ref.ReadAsArray().astype(float)\n",
    "height[height == band.GetNoDataValue()] = np.nan\n",
    "ch_ref = None\n",
    "\n",
    "# get the range to show based on a 2% stretch\n",
    "vmin = np.nanpercentile(height, 1)\n",
    "vmax = np.nanpercentile(height, 99)\n",
    "\n",
    "# and plot\n",
    "plt.figure(figsize=(5,5), dpi=100)\n",
    "cover_map = plt.imshow(\n",
    "    height,\n",
    "    vmin=vmin,\n",
    "    vmax=vmax,\n",
    "    cmap=plt.cm.viridis,\n",
    ")\n",
    "plt.title(\"Pre-fire canopy height in the\\nperimeter of the CZU fire\")\n",
    "colorbar = plt.colorbar(cover_map)\n",
    "colorbar.set_label(\"Canopy Height (%)\")\n",
    "plt.tight_layout()"
   ]
  },
  {
   "cell_type": "markdown",
   "metadata": {},
   "source": [
    "# Section 2: Google Earth Engine\n",
    "\n",
    "Next, we'll demonstrate how to read and interact with these data in Google Earth Engine. We'll map canopy cover in 2016 and 2020, then compute the change between years with simple band math.\n",
    "\n",
    "The change map will show areas of canopy loss in warm colors (reds and yellows) and canopy gain in cool colors (blues and greens). These correspond to areas where wildfires and timber harvest removed trees, and to areas where regeneration restored forests.\n",
    "\n",
    "We only have 3 meter resolution data available for these two years, so we won't specify years in the API search request."
   ]
  },
  {
   "cell_type": "code",
   "execution_count": null,
   "metadata": {},
   "outputs": [],
   "source": [
    "# first we'll get the asset IDs\n",
    "cc_ids = forest.search(\n",
    "    geography=\"California\",\n",
    "    metric=\"CanopyCover\",\n",
    "    resolution=3,\n",
    ")\n",
    "cc_ids.sort()\n",
    "print(cc_ids)\n",
    "\n",
    "# get the bucket paths for where each file is stored\n",
    "cc_bucket_paths = [forest.fetch(cc_id, bucket=True) for cc_id in cc_ids]"
   ]
  },
  {
   "cell_type": "code",
   "execution_count": null,
   "metadata": {},
   "outputs": [],
   "source": [
    "# read them as earth engine images\n",
    "cc_2016 = ee.Image.loadGeoTIFF(cc_bucket_paths[0])\n",
    "cc_2020 = ee.Image.loadGeoTIFF(cc_bucket_paths[1])\n",
    "\n",
    "# compute the difference between years\n",
    "change = cc_2020.subtract(cc_2016)\n",
    "\n",
    "# mask changes below a change detection threshold. We selected 15% because the canopy cover RMSE is ~11%\n",
    "thresh = 15\n",
    "mask = change.gt(thresh).Or(change.lt(-thresh))\n",
    "change = change.mask(mask)"
   ]
  },
  {
   "cell_type": "markdown",
   "metadata": {},
   "source": [
    "Now that we've loaded the data into Earth Engine and computed the difference between years, we'll create an interactive map to show these data."
   ]
  },
  {
   "cell_type": "code",
   "execution_count": null,
   "metadata": {},
   "outputs": [],
   "source": [
    "# set up visualization parameters\n",
    "coverViz = {\n",
    "    \"min\": 0,\n",
    "    \"max\": 90,\n",
    "    \"palette\": cfo_green,\n",
    "}\n",
    "changeViz = {\n",
    "    \"min\": -30,\n",
    "    \"max\": 30,\n",
    "    \"palette\": cfo_change,\n",
    "}\n",
    "\n",
    "# create the notebook map object\n",
    "mapCenter = [41.2, -123]\n",
    "m = folium.Map(\n",
    "    location=mapCenter,\n",
    "    zoom_start=9,\n",
    "    tiles=\"Stamen Toner\",\n",
    ")\n",
    "\n",
    "# add each layer\n",
    "m.addLayer(cc_2016, coverViz, \"Canopy Cover 2016\")\n",
    "m.addLayer(cc_2020, coverViz, \"Canopy Cover 2020\")\n",
    "m.addLayer(change, changeViz, \"Change\")\n",
    "\n",
    "# add a color ramp\n",
    "change_ramp = folium.branca.colormap.LinearColormap(\n",
    "    cfo_change,\n",
    "    vmin = -30,\n",
    "    vmax = 30,\n",
    "    caption = \"% Canopy Cover Change, 2016-2020\"\n",
    ")\n",
    "change_ramp.add_to(m)\n",
    "\n",
    "# and add some map controls\n",
    "m.add_child(folium.LayerControl())\n",
    "display(m)"
   ]
  },
  {
   "cell_type": "markdown",
   "metadata": {},
   "source": [
    "I recommend turning the 2020 layer on and off to visualize the change between each years, and to look at change alone on map background.\n",
    "\n",
    "Don't forget to zoom in--you'll find all sorts of detail.\n",
    "\n",
    "The final Earth Engine task will be to get the canopy cover pixel value for the tree from the Botanic Garden shown earlier."
   ]
  },
  {
   "cell_type": "code",
   "execution_count": null,
   "metadata": {},
   "outputs": [],
   "source": [
    "# it'll be a simple point lookup\n",
    "xy = ee.Geometry.Point(pine_coords)\n",
    "pine_cover = cc_2016.sample(xy, 3).first().get('B0').getInfo()\n",
    "print(f'Monterey Pine Canopy Cover: {pine_cover}%')"
   ]
  }
 ],
 "metadata": {
  "kernelspec": {
   "display_name": "Python 3",
   "language": "python",
   "name": "python3"
  },
  "language_info": {
   "codemirror_mode": {
    "name": "ipython",
    "version": 3
   },
   "file_extension": ".py",
   "mimetype": "text/x-python",
   "name": "python",
   "nbconvert_exporter": "python",
   "pygments_lexer": "ipython3",
   "version": "3.7.8"
  }
 },
 "nbformat": 4,
 "nbformat_minor": 4
}
